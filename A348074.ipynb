{
 "cells": [
  {
   "cell_type": "markdown",
   "id": "5d46200e",
   "metadata": {},
   "source": [
    "# Purpose:\n",
    "### - Explore the hailstone integer sequence https://oeis.org/A348074\n",
    "### - Identify cycles and graph the sequence seed trajectories (running the algorithm on each seed until the trajectory falls into one of the cycles)."
   ]
  },
  {
   "cell_type": "code",
   "execution_count": 1,
   "id": "4c37aec8",
   "metadata": {},
   "outputs": [],
   "source": [
    "# libraries and functions\n",
    "import networkx as nx\n",
    "from pyvis.network import Network\n",
    "import pandas as pd\n",
    "import matplotlib.pyplot as plt\n",
    "\n",
    "def unique(ll):\n",
    "    temp = []\n",
    "    [temp.append(i) for i in ll if i not in temp]\n",
    "    return temp\n",
    "    \n",
    "def bitflip(n): \n",
    "    if n==0: return 1\n",
    "    else: return (1<<int.bit_length(n)) - n - 1"
   ]
  },
  {
   "cell_type": "markdown",
   "id": "6d2247a8",
   "metadata": {},
   "source": [
    "### There are two cycles in this hailstone sequence, one large and one small"
   ]
  },
  {
   "cell_type": "code",
   "execution_count": 2,
   "id": "d47a31e7",
   "metadata": {},
   "outputs": [
    {
     "name": "stdout",
     "output_type": "stream",
     "text": [
      "[10, 5, 16, 15, 46, 17, 52, 11, 34, 29, 88, 39, 118, 9, 28, 3]\n"
     ]
    }
   ],
   "source": [
    "shortcycle = []\n",
    "j = 3\n",
    "w = ''\n",
    "n = j\n",
    "while w != j:\n",
    "    if n%2 == 0:\n",
    "        n = bitflip(n)\n",
    "    else: \n",
    "        n = 3 * n + 1\n",
    "    w = n\n",
    "    shortcycle.append(n)\n",
    "print(shortcycle)"
   ]
  },
  {
   "cell_type": "code",
   "execution_count": 3,
   "id": "42fb65a8",
   "metadata": {},
   "outputs": [
    {
     "name": "stdout",
     "output_type": "stream",
     "text": [
      "[82, 45, 136, 119, 358, 153, 460, 51, 154, 101, 304, 207, 622, 401, 1204, 843, 2530, 1565, 4696, 3495, 10486, 5897, 17692, 15075, 45226, 20309, 60928, 4607, 13822, 2561, 7684, 507, 1522, 525, 1576, 471, 1414, 633, 1900, 147, 442, 69, 208, 47, 142, 113, 340, 171, 514, 509, 1528, 519, 1558, 489, 1468, 579, 1738, 309, 928, 95, 286, 225, 676, 347, 1042, 1005, 3016, 1079, 3238, 857, 2572, 1523, 4570, 3621, 10864, 5519, 16558, 16209, 48628, 16907, 50722, 14813, 44440, 21095, 63286, 2249, 6748, 1443, 4330, 3861, 11584, 4799, 14398, 1985, 5956, 2235, 6706, 1485, 4456, 3735, 11206, 5177, 15532, 851, 2554, 1541, 4624, 3567, 10702, 5681, 17044, 15723, 47170, 18365, 55096, 10439, 31318, 1449, 4348, 3843, 11530, 4853, 14560, 1823, 5470, 2721, 8164, 27]\n"
     ]
    }
   ],
   "source": [
    "longcycle = []\n",
    "j = 27\n",
    "w = ''\n",
    "n = j\n",
    "while w != j:\n",
    "    if n%2 == 0:\n",
    "        n = bitflip(n)\n",
    "    else: \n",
    "        n = 3 * n + 1\n",
    "    w = n\n",
    "    longcycle.append(n)\n",
    "print(longcycle)"
   ]
  },
  {
   "cell_type": "markdown",
   "id": "c248f7ab",
   "metadata": {},
   "source": [
    "### Over a given range (0 to N), iterate over hailstone trajectories from seed to whichever cycle the trajectory gets caught in. Each number is a source node that connects to a subsequent number in the trajectory as a target node."
   ]
  },
  {
   "cell_type": "code",
   "execution_count": 4,
   "id": "9e43dc26",
   "metadata": {},
   "outputs": [],
   "source": [
    "sources = []\n",
    "targets = []\n",
    "\n",
    "# begin constructing the edgelist for the graphs by using the short and long cycles \n",
    "# plus the first terms appended to the end of each cycle list\n",
    "shortcycle = [3, 10, 5, 16, 15, 46, 17, 52, 11, 34, 29, 88, 39, 118, 9, 28, 3]\n",
    "longcycle = [27, 82, 45, 136, 119, 358, 153, 460, 51, 154, 101, 304, 207, 622, 401, 1204, 843, 2530, 1565, 4696, 3495, 10486, 5897, 17692, 15075, 45226, 20309, 60928, 4607, 13822, 2561, 7684, 507, 1522, 525, 1576, 471, 1414, 633, 1900, 147, 442, 69, 208, 47, 142, 113, 340, 171, 514, 509, 1528, 519, 1558, 489, 1468, 579, 1738, 309, 928, 95, 286, 225, 676, 347, 1042, 1005, 3016, 1079, 3238, 857, 2572, 1523, 4570, 3621, 10864, 5519, 16558, 16209, 48628, 16907, 50722, 14813, 44440, 21095, 63286, 2249, 6748, 1443, 4330, 3861, 11584, 4799, 14398, 1985, 5956, 2235, 6706, 1485, 4456, 3735, 11206, 5177, 15532, 851, 2554, 1541, 4624, 3567, 10702, 5681, 17044, 15723, 47170, 18365, 55096, 10439, 31318, 1449, 4348, 3843, 11530, 4853, 14560, 1823, 5470, 2721, 8164, 27]\n",
    "\n",
    "for i in range(1, len(shortcycle)):\n",
    "    sources.append(shortcycle[i-1])\n",
    "    targets.append(shortcycle[i])\n",
    "\n",
    "for i in range(1, len(longcycle)):\n",
    "    sources.append(longcycle[i-1])\n",
    "    targets.append(longcycle[i])"
   ]
  },
  {
   "cell_type": "code",
   "execution_count": 5,
   "id": "db6017c0",
   "metadata": {},
   "outputs": [],
   "source": [
    "counts = []\n",
    "shorts = []# have lists of which seeds fall into the short cycle and which fall into the long cycle\n",
    "longs = []\n",
    "N = 120\n",
    "for j in range(N):\n",
    "    n = j\n",
    "    x = [n]\n",
    "    c = 0\n",
    "    while n not in (shortcycle + longcycle):\n",
    "        source = n\n",
    "        if n % 2 == 0: \n",
    "            n = bitflip(n)\n",
    "        else: \n",
    "            n = 3 * n + 1\n",
    "        x.append(n)\n",
    "        target = n\n",
    "        sources.append(source)\n",
    "        targets.append(target)\n",
    "        c+=1\n",
    "    if any([(i in x) for i in shortcycle]):\n",
    "        shorts.append(j)\n",
    "    elif any([(i in x) for i in longcycle]): \n",
    "        longs.append(j)\n",
    "    counts.append(c)"
   ]
  },
  {
   "cell_type": "markdown",
   "id": "eb42519b",
   "metadata": {},
   "source": [
    "### Now that the sequence trajectories have been explored over the given range, use Pyvis and NetworkX to make a graph of the trajectories.\n",
    "### There are two types of graphs: chains and nodes that are scaled by the sizes of the chains they represent. Let's view the hailstone trajectories using both types of graphs."
   ]
  },
  {
   "cell_type": "code",
   "execution_count": 6,
   "id": "4852ccc8",
   "metadata": {},
   "outputs": [
    {
     "name": "stdout",
     "output_type": "stream",
     "text": [
      "(558, 2)\n"
     ]
    },
    {
     "data": {
      "text/html": [
       "\n",
       "        <iframe\n",
       "            width=\"1000px\"\n",
       "            height=\"700px\"\n",
       "            src=\"nx.html\"\n",
       "            frameborder=\"0\"\n",
       "            allowfullscreen\n",
       "        ></iframe>\n",
       "        "
      ],
      "text/plain": [
       "<IPython.lib.display.IFrame at 0x1e2da5d8fa0>"
      ]
     },
     "execution_count": 6,
     "metadata": {},
     "output_type": "execute_result"
    }
   ],
   "source": [
    "df = pd.DataFrame({'source' : sources, 'target' : targets})\n",
    "df = df.drop_duplicates()\n",
    "print(df.shape)\n",
    "\n",
    "nt = Network(\"700px\", \"1000px\", notebook=True)\n",
    "\n",
    "nodedict = {}\n",
    "c = 0\n",
    "\n",
    "for i in unique(df['source'].drop_duplicates().tolist() + df['target'].drop_duplicates().tolist()):\n",
    "    nodedict[i] = c\n",
    "    s = str(i)\n",
    "    if i in [shortcycle[0]]:\n",
    "        nt.add_node(c, s, title=str(i), color='violet')\n",
    "    elif i in shortcycle[1:]:\n",
    "        nt.add_node(c, s, title=str(i), color='red')\n",
    "    elif i in [longcycle[0]]:\n",
    "        nt.add_node(c, s, title=str(i), color='cyan')\n",
    "    elif i in longcycle[1:]:\n",
    "        nt.add_node(c, s, title=str(i), color='orange')\n",
    "    else: nt.add_node(c, s, title=str(i), color='blue')\n",
    "    c+=1\n",
    "    \n",
    "for i in range(df.shape[0]):\n",
    "    nt.add_edge(nodedict[df['source'].tolist()[i]], nodedict[df['target'].tolist()[i]])\n",
    "\n",
    "# populates the nodes and edges data structures\n",
    "nt.show(\"nx.html\")"
   ]
  },
  {
   "cell_type": "markdown",
   "id": "893d75ec",
   "metadata": {},
   "source": [
    "### View the graph of trajectories as chains [here](https://github.com/acvanp/A348074/blob/main/A348074Chains.png) if the graph does not render in the notebook."
   ]
  },
  {
   "cell_type": "code",
   "execution_count": 7,
   "id": "d717a9aa",
   "metadata": {},
   "outputs": [],
   "source": [
    "cycles = shortcycle[:-1] + longcycle[:-1]\n",
    "nocycles = df[ ~df['source'].isin(cycles) & ~df['target'].isin(cycles)]\n",
    "nt = Network(\"700px\", \"1000px\", notebook=True)"
   ]
  },
  {
   "cell_type": "code",
   "execution_count": 8,
   "id": "7e7ecb88",
   "metadata": {},
   "outputs": [],
   "source": [
    "nodedict = {}\n",
    "c = 0\n",
    "df_cycles = df[df['source'].isin(cycles) & df['target'].isin(cycles)]\n",
    "\n",
    "for i in unique(df_cycles['source'].drop_duplicates().tolist() + df_cycles['target'].drop_duplicates().tolist()):\n",
    "    nodedict[i] = c\n",
    "    s = str(i)\n",
    "    if i in [shortcycle[0]]:\n",
    "        nt.add_node(c, s, title=str(i), color='violet', size = 10)\n",
    "    elif i in shortcycle[1:]:\n",
    "        nt.add_node(c, s, title=str(i), color='red', size = 10)\n",
    "    elif i in [longcycle[0]]:\n",
    "        nt.add_node(c, s, title=str(i), color='cyan', size = 10)\n",
    "    elif i in longcycle[1:]:\n",
    "        nt.add_node(c, s, title=str(i), color='orange', size = 10)\n",
    "    else: nt.add_node(c, s, title=str(i), color='blue', size = 10)\n",
    "    c+=1\n",
    "\n",
    "for i in range(df_cycles.shape[0]):\n",
    "    nt.add_edge(nodedict[df_cycles['source'].tolist()[i]], nodedict[df_cycles['target'].tolist()[i]])"
   ]
  },
  {
   "cell_type": "code",
   "execution_count": 9,
   "id": "43e259d9",
   "metadata": {
    "scrolled": true
   },
   "outputs": [
    {
     "data": {
      "text/html": [
       "\n",
       "        <iframe\n",
       "            width=\"1000px\"\n",
       "            height=\"700px\"\n",
       "            src=\"nx.html\"\n",
       "            frameborder=\"0\"\n",
       "            allowfullscreen\n",
       "        ></iframe>\n",
       "        "
      ],
      "text/plain": [
       "<IPython.lib.display.IFrame at 0x1e2da6a8520>"
      ]
     },
     "execution_count": 9,
     "metadata": {},
     "output_type": "execute_result"
    }
   ],
   "source": [
    "for i in cycles:\n",
    "    c += 1\n",
    "    s = str(i) + ' chain'\n",
    "    temp = df[(df['source'] == i) | (df['target'] == i)]\n",
    "    temp = temp[~temp['source'].isin(cycles) | ~temp['target'].isin(cycles)]\n",
    "    \n",
    "    temp3 = []\n",
    "    for b in temp['source'].tolist():\n",
    "        temp2 = df[~df['source'].isin(cycles) & ~df['target'].isin(cycles) & (df['target'] == b)]\n",
    "        temp3 = temp3 + temp2['source'].tolist()\n",
    "        temp = temp.append(temp2)\n",
    "    \n",
    "    temp4 = [1]\n",
    "    while len(temp4) > 0:\n",
    "            \n",
    "        temp4 = []            \n",
    "        \n",
    "        for t in temp3:\n",
    "            temp2 = df[~df['source'].isin(cycles) & ~df['target'].isin(cycles) & (df['target'] == t)]\n",
    "            temp4 = temp4 + temp2['source'].tolist()\n",
    "            temp = temp.append(temp2)\n",
    "            temp3 = temp4\n",
    "        \n",
    "    m = unique(temp['source'].tolist() + temp['target'].tolist())\n",
    "    m = len(m)\n",
    "    if m != 0:\n",
    "        s = str(i) + ' chain ' + '(x' + str(m) + ')' \n",
    "        nt.add_node(c, s, title=s, color='blue', size = (30+m)/3)\n",
    "        nt.add_edge(c, nodedict[i])\n",
    "        #print(m)\n",
    "    \n",
    "\n",
    "# populates the nodes and edges data structures\n",
    "nt.show(\"nx.html\")"
   ]
  },
  {
   "cell_type": "markdown",
   "id": "1d34a61f",
   "metadata": {},
   "source": [
    "### View the graph of trajectories as scaled nodes [here](https://github.com/acvanp/A348074/blob/main/A348074ScaledNodes2.png) if the graph does not render in the notebook.\n",
    "### Next, let's compare [the Collatz sequence (A006577)](https://oeis.org/A006577) with [A348074](https://oeis.org/A348074)."
   ]
  },
  {
   "cell_type": "code",
   "execution_count": 10,
   "id": "2bd7d786",
   "metadata": {},
   "outputs": [
    {
     "name": "stdout",
     "output_type": "stream",
     "text": [
      "[0, 1, 7, 2, 5, 8, 16, 3, 19, 6, 14, 9, 9, 17, 17, 4, 12, 20, 20, 7, 7, 15, 15, 10, 23, 10, 111, 18, 18, 18, 106, 5, 26, 13, 13, 21, 21, 21, 34, 8, 109, 8, 29, 16, 16, 16, 104, 11, 24, 24, 24, 11, 11, 112, 112, 19, 32, 19, 32, 19, 19, 107, 107, 6, 27, 27, 27, 14, 14, 14, 102, 22, 115, 22, 14, 22, 22, 35, 35, 9, 22, 110, 110, 9, 9, 30, 30, 17, 30, 17, 92, 17, 17, 105, 105, 12, 118, 25, 25, 25]\n"
     ]
    },
    {
     "data": {
      "text/plain": [
       "<matplotlib.collections.PathCollection at 0x1e2da6f1eb0>"
      ]
     },
     "execution_count": 10,
     "metadata": {},
     "output_type": "execute_result"
    },
    {
     "data": {
      "image/png": "[encoded data removed]",
      "text/plain": [
       "<Figure size 432x288 with 1 Axes>"
      ]
     },
     "metadata": {
      "needs_background": "light"
     },
     "output_type": "display_data"
    }
   ],
   "source": [
    "# https://oeis.org/A006577\n",
    "def a(n):\n",
    "    if n==1: return 0\n",
    "    x=0\n",
    "    while True:\n",
    "        if n%2==0: n//=2\n",
    "        else: n = 3*n + 1\n",
    "        x+=1\n",
    "        if n<2: break\n",
    "    return x\n",
    "\n",
    "print([a(n) for n in range(1, 101)])\n",
    "\n",
    "x = []\n",
    "[x.append(a(i)) for i in range(1000)]\n",
    "plt.scatter(range(len(x)), x, s=0.8, alpha=0.5,marker='o', color='blue')"
   ]
  },
  {
   "cell_type": "code",
   "execution_count": 11,
   "id": "d9382196",
   "metadata": {},
   "outputs": [
    {
     "name": "stdout",
     "output_type": "stream",
     "text": [
      "[3, 2, 3, 0, 1, 0, 3, 2, 3, 0, 0, 0, 1, 8, 3, 0, 0, 0, 9, 2, 1, 16, 1, 6, 3, 2, 1, 0, 0, 0, 3, 4, 5, 2, 0, 18, 1, 2, 3, 0, 7, 2, 17, 28, 3, 0, 0, 0, 1, 10, 9, 0, 0, 2, 1, 12, 3, 4, 1, 10, 1, 6, 3, 14, 15, 12, 7, 4, 11, 0, 5, 4, 13, 20, 3, 2, 1, 8, 11, 2, 1, 2, 0, 2, 29, 18, 3, 40, 0, 10, 3, 16, 19, 24, 3, 0, 5, 44, 1, 164, 1]\n"
     ]
    },
    {
     "data": {
      "image/png": "[encoded data removed]",
      "text/plain": [
       "<Figure size 432x288 with 1 Axes>"
      ]
     },
     "metadata": {
      "needs_background": "light"
     },
     "output_type": "display_data"
    }
   ],
   "source": [
    "def a(n):\n",
    "    x=0\n",
    "    #print(n)\n",
    "    while n not in (shortcycle + longcycle):\n",
    "        if n%2==0: n = bitflip(n)\n",
    "        else: n = 3*n + 1\n",
    "        x+=1\n",
    "    return x\n",
    "\n",
    "print([a(n) for n in range(101)])\n",
    "\n",
    "x = []\n",
    "[x.append(a(i)) for i in range(1000)]\n",
    "plt.scatter(range(len(x)), x, s=0.8, alpha=0.5,marker='o', color='blue')\n",
    "plt.ylim(0.1, 10e5)\n",
    "plt.yscale('log')"
   ]
  },
  {
   "cell_type": "markdown",
   "id": "86fcc908",
   "metadata": {},
   "source": [
    "# Summary\n",
    "__In summary, we have explored A348074 and we have identified and graphed two cycles that this alrogrithm generates when seeded with integers over a range 0 to N. We have compared the [A348074](https://oeis.org/A348074) with the [Collatz sequence](https://oeis.org/A006370) and it's [trajectories](https://oeis.org/A006577).__"
   ]
  },
  {
   "cell_type": "code",
   "execution_count": null,
   "id": "2ea4b7ee",
   "metadata": {},
   "outputs": [],
   "source": []
  }
 ],
 "metadata": {
  "kernelspec": {
   "display_name": "Python 3",
   "language": "python",
   "name": "python3"
  },
  "language_info": {
   "codemirror_mode": {
    "name": "ipython",
    "version": 3
   },
   "file_extension": ".py",
   "mimetype": "text/x-python",
   "name": "python",
   "nbconvert_exporter": "python",
   "pygments_lexer": "ipython3",
   "version": "3.8.8"
  }
 },
 "nbformat": 4,
 "nbformat_minor": 5
}
